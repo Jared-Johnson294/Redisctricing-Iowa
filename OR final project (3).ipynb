{
 "cells": [
  {
   "cell_type": "code",
   "execution_count": 1,
   "metadata": {},
   "outputs": [],
   "source": [
    "from gerrychain import Graph"
   ]
  },
  {
   "cell_type": "code",
   "execution_count": 2,
   "metadata": {},
   "outputs": [],
   "source": [
    "#read the iowa json county graph\n",
    "filepath = 'C:\\\\district-data\\\\'\n",
    "filename = 'COUNTY_19.json'\n",
    "G = Graph.from_json( filepath + filename )"
   ]
  },
  {
   "cell_type": "code",
   "execution_count": 3,
   "metadata": {},
   "outputs": [
    {
     "name": "stdout",
     "output_type": "stream",
     "text": [
      "Node 0 is Marshall County, which has population on 40648 and is centered at ( -92.99877061994405 , 42.03584991494549 )\n",
      "Node 1 is Benton County, which has population on 26076 and is centered at ( -92.0656911571341 , 42.08018636134706 )\n",
      "Node 2 is Clay County, which has population on 16667 and is centered at ( -95.15091942826078 , 43.08258040539963 )\n",
      "Node 3 is Shelby County, which has population on 12167 and is centered at ( -95.31021132757591 , 41.6850926048501 )\n",
      "Node 4 is Clayton County, which has population on 18129 and is centered at ( -91.34143277875053 , 42.84474932363271 )\n",
      "Node 5 is Jackson County, which has population on 19848 and is centered at ( -90.57422946144632 , 42.17174262526901 )\n",
      "Node 6 is Hamilton County, which has population on 15673 and is centered at ( -93.7068082697318 , 42.38377217191507 )\n",
      "Node 7 is Taylor County, which has population on 6317 and is centered at ( -94.6964147813078 , 40.73743235848062 )\n",
      "Node 8 is Muscatine County, which has population on 42745 and is centered at ( -91.11275621093242 , 41.483922072403594 )\n",
      "Node 9 is Wright County, which has population on 13229 and is centered at ( -93.7351464908172 , 42.73311889950971 )\n",
      "Node 10 is Clinton County, which has population on 49116 and is centered at ( -90.53197232707252 , 41.89803580196398 )\n",
      "Node 11 is Iowa County, which has population on 16355 and is centered at ( -92.0655240534802 , 41.686322932306645 )\n",
      "Node 12 is Buena Vista County, which has population on 20260 and is centered at ( -95.15114897462102 , 42.73549363701918 )\n",
      "Node 13 is Woodbury County, which has population on 102172 and is centered at ( -96.04476727496245 , 42.389716907020876 )\n",
      "Node 14 is Kossuth County, which has population on 15543 and is centered at ( -94.20671991643945 , 43.20413004496081 )\n",
      "Node 15 is Worth County, which has population on 7598 and is centered at ( -93.26084755452813 , 43.377398446583825 )\n",
      "Node 16 is Washington County, which has population on 21704 and is centered at ( -91.71786760030886 , 41.33559099859664 )\n",
      "Node 17 is Sac County, which has population on 10350 and is centered at ( -95.10539459928452 , 42.38626035323582 )\n",
      "Node 18 is Humboldt County, which has population on 9815 and is centered at ( -94.2071868012789 , 42.77646858414732 )\n",
      "Node 19 is Cherokee County, which has population on 12072 and is centered at ( -95.62380549861054 , 42.73562256287934 )\n",
      "Node 20 is Winnebago County, which has population on 10866 and is centered at ( -93.73419539246163 , 43.37756775689087 )\n",
      "Node 21 is Lyon County, which has population on 11581 and is centered at ( -96.21029237712936 , 43.3804969601641 )\n",
      "Node 22 is Marion County, which has population on 33309 and is centered at ( -93.09943653019617 , 41.33445149244914 )\n",
      "Node 23 is Keokuk County, which has population on 10511 and is centered at ( -92.17864261624237 , 41.33646497730085 )\n",
      "Node 24 is Johnson County, which has population on 130882 and is centered at ( -91.58808491753727 , 41.6715510945553 )\n",
      "Node 25 is Monroe County, which has population on 7970 and is centered at ( -92.86898770549843 , 41.02978255967117 )\n",
      "Node 26 is O'Brien County, which has population on 14398 and is centered at ( -95.62487833455118 , 43.083752668242035 )\n",
      "Node 27 is Dubuque County, which has population on 93653 and is centered at ( -90.88245646262946 , 42.468832015844086 )\n",
      "Node 28 is Van Buren County, which has population on 7570 and is centered at ( -91.94998707321201 , 40.7532294174673 )\n",
      "Node 29 is Franklin County, which has population on 10680 and is centered at ( -93.26247301194185 , 42.73254585468864 )\n",
      "Node 30 is Guthrie County, which has population on 10954 and is centered at ( -94.50105499161998 , 41.6837547918112 )\n",
      "Node 31 is Jefferson County, which has population on 16843 and is centered at ( -91.94887742941329 , 41.03175959871245 )\n",
      "Node 32 is Dickinson County, which has population on 16667 and is centered at ( -95.15083005344265 , 43.37798476863256 )\n",
      "Node 33 is Floyd County, which has population on 16303 and is centered at ( -92.78900330518888 , 43.0599208264757 )\n",
      "Node 34 is Appanoose County, which has population on 12887 and is centered at ( -92.86861021826232 , 40.74316333875447 )\n",
      "Node 35 is Davis County, which has population on 8753 and is centered at ( -92.4097173261884 , 40.74768907729649 )\n",
      "Node 36 is Clarke County, which has population on 9286 and is centered at ( -93.78515785144408 , 41.02903230178618 )\n",
      "Node 37 is Black Hawk County, which has population on 131090 and is centered at ( -92.30882005953113 , 42.470095767227555 )\n",
      "Node 38 is Scott County, which has population on 165224 and is centered at ( -90.62324280909945 , 41.63709783018109 )\n",
      "Node 39 is Plymouth County, which has population on 24986 and is centered at ( -96.21404283124411 , 42.737835054432004 )\n",
      "Node 40 is Mitchell County, which has population on 10776 and is centered at ( -92.78903145401591 , 43.35641237442225 )\n",
      "Node 41 is Dallas County, which has population on 66135 and is centered at ( -94.03973741372856 , 41.68488622605154 )\n",
      "Node 42 is Palo Alto County, which has population on 9421 and is centered at ( -94.67813707201789 , 43.08206428757473 )\n",
      "Node 43 is Fremont County, which has population on 7441 and is centered at ( -95.60467654568482 , 40.745589184604555 )\n",
      "Node 44 is Ringgold County, which has population on 5131 and is centered at ( -94.24397192579808 , 40.73520230205101 )\n",
      "Node 45 is Butler County, which has population on 14867 and is centered at ( -92.79019304495277 , 42.73156645881194 )\n",
      "Node 46 is Montgomery County, which has population on 10740 and is centered at ( -95.15637578251915 , 41.030139994984005 )\n",
      "Node 47 is Warren County, which has population on 46225 and is centered at ( -93.56135935743471 , 41.33437346848901 )\n",
      "Node 48 is Decatur County, which has population on 8457 and is centered at ( -93.7862815011628 , 40.73768268791372 )\n",
      "Node 49 is Webster County, which has population on 38013 and is centered at ( -94.18178806442418 , 42.42796622642692 )\n",
      "Node 50 is Calhoun County, which has population on 9670 and is centered at ( -94.64041362020998 , 42.38518477929721 )\n",
      "Node 51 is Mahaska County, which has population on 22381 and is centered at ( -92.64090926329874 , 41.33520342888313 )\n",
      "Node 52 is Boone County, which has population on 26306 and is centered at ( -93.93167095840248 , 42.036549339291625 )\n",
      "Node 53 is Linn County, which has population on 211226 and is centered at ( -91.5989645846394 , 42.07894788180142 )\n",
      "Node 54 is Jasper County, which has population on 36842 and is centered at ( -93.05376496565194 , 41.686039399927594 )\n",
      "Node 55 is Page County, which has population on 15932 and is centered at ( -95.15017472461393 , 40.73914438756733 )\n",
      "Node 56 is Ida County, which has population on 7089 and is centered at ( -95.51349619964006 , 42.38687467927873 )\n",
      "Node 57 is Crawford County, which has population on 17096 and is centered at ( -95.38196776151723 , 42.03721246660687 )\n",
      "Node 58 is Adams County, which has population on 4029 and is centered at ( -94.69918489591412 , 41.028983892322046 )\n",
      "Node 59 is Cedar County, which has population on 18499 and is centered at ( -91.13241239869099 , 41.7723207878753 )\n",
      "Node 60 is Carroll County, which has population on 20816 and is centered at ( -94.86055928370784 , 42.03623822405138 )\n",
      "Node 61 is Audubon County, which has population on 6119 and is centered at ( -94.90582221249828 , 41.68458932923967 )\n",
      "Node 62 is Delaware County, which has population on 17764 and is centered at ( -91.36735011783752 , 42.4712110106184 )\n",
      "Node 63 is Hardin County, which has population on 17534 and is centered at ( -93.24040351685797 , 42.38388001365816 )\n",
      "Node 64 is Sioux County, which has population on 33704 and is centered at ( -96.17788293663585 , 43.082617867779554 )\n",
      "Node 65 is Adair County, which has population on 7682 and is centered at ( -94.47094134400744 , 41.33074643050621 )\n",
      "Node 66 is Union County, which has population on 12534 and is centered at ( -94.24237916555849 , 41.02773040388104 )\n",
      "Node 67 is Mills County, which has population on 15059 and is centered at ( -95.62132679390062 , 41.033452933839165 )\n",
      "Node 68 is Wayne County, which has population on 6403 and is centered at ( -93.32736667583401 , 40.73947337115782 )\n",
      "Node 69 is Monona County, which has population on 9243 and is centered at ( -95.95992351740159 , 42.05166627746767 )\n",
      "Node 70 is Harrison County, which has population on 14928 and is centered at ( -95.81692143116388 , 41.68285090532701 )\n",
      "Node 71 is Lucas County, which has population on 8898 and is centered at ( -93.32771707262384 , 41.029376818112674 )\n",
      "Node 72 is Emmet County, which has population on 10302 and is centered at ( -94.67847998299169 , 43.37802302441406 )\n",
      "Node 73 is Polk County, which has population on 430640 and is centered at ( -93.57353355639648 , 41.68550482756825 )\n",
      "Node 74 is Buchanan County, which has population on 20958 and is centered at ( -91.83783921336341 , 42.470777659340555 )\n",
      "Node 75 is Chickasaw County, which has population on 12439 and is centered at ( -92.31766374401579 , 43.060041352323374 )\n",
      "Node 76 is Des Moines County, which has population on 40325 and is centered at ( -91.18147074798303 , 40.92318288916523 )\n",
      "Node 77 is Cass County, which has population on 13956 and is centered at ( -94.92782663179518 , 41.33148761085363 )\n",
      "Node 78 is Allamakee County, which has population on 14330 and is centered at ( -91.3780922938836 , 43.28428380108184 )\n",
      "Node 79 is Madison County, which has population on 15679 and is centered at ( -94.01556193000368 , 41.330714236377936 )\n",
      "Node 80 is Cerro Gordo County, which has population on 44151 and is centered at ( -93.26081837201242 , 43.0815577298153 )\n",
      "Node 81 is Fayette County, which has population on 20880 and is centered at ( -91.84432073063205 , 42.86259192971521 )\n",
      "Node 82 is Bremer County, which has population on 24276 and is centered at ( -92.31805484020535 , 42.77458725340023 )\n",
      "Node 83 is Tama County, which has population on 17767 and is centered at ( -92.53254251440035 , 42.07981169210455 )\n",
      "Node 84 is Osceola County, which has population on 6462 and is centered at ( -95.62368411762287 , 43.37856960666791 )\n",
      "Node 85 is Henry County, which has population on 20145 and is centered at ( -91.5445252224677 , 40.98793706195712 )\n",
      "Node 86 is Poweshiek County, which has population on 18914 and is centered at ( -92.53146840524049 , 41.68644220541447 )\n",
      "Node 87 is Hancock County, which has population on 11341 and is centered at ( -93.73427230426816 , 43.08188607671643 )\n",
      "Node 88 is Winneshiek County, which has population on 21056 and is centered at ( -91.84370741831269 , 43.29067464029871 )\n",
      "Node 89 is Jones County, which has population on 20638 and is centered at ( -91.13143519508219 , 42.12123966176517 )\n",
      "Node 90 is Pocahontas County, which has population on 7310 and is centered at ( -94.67874660671487 , 42.73413512481784 )\n",
      "Node 91 is Greene County, which has population on 9336 and is centered at ( -94.39683558340126 , 42.03623942429755 )\n",
      "Node 92 is Louisa County, which has population on 11387 and is centered at ( -91.25961842119428 , 41.21850726713903 )\n",
      "Node 93 is Wapello County, which has population on 35625 and is centered at ( -92.40944987244863 , 41.03058454241983 )\n",
      "Node 94 is Lee County, which has population on 35862 and is centered at ( -91.47926276686545 , 40.641975397646746 )\n",
      "Node 95 is Story County, which has population on 89542 and is centered at ( -93.46504476999961 , 42.03624151199325 )\n",
      "Node 96 is Grundy County, which has population on 12453 and is centered at ( -92.79141985954676 , 42.40186564614326 )\n",
      "Node 97 is Pottawattamie County, which has population on 93158 and is centered at ( -95.54239077306133 , 41.336611435082254 )\n",
      "Node 98 is Howard County, which has population on 9566 and is centered at ( -92.31719890298676 , 43.35676734750672 )\n"
     ]
    }
   ],
   "source": [
    "#Make sure the file is read correctly by printing the node #, and its population\n",
    "for node in G.nodes:\n",
    "    name = G.nodes[node][\"NAME10\"]\n",
    "    population = G.nodes[node]['TOTPOP']\n",
    "    x_coordinate = G.nodes[node]['C_X']\n",
    "    y_coordinate = G.nodes[node]['C_Y']\n",
    "    print(\"Node\",node,\"is\",name,\"County, which has population on\",population,\"and is centered at (\",x_coordinate,\",\",y_coordinate,\")\")"
   ]
  },
  {
   "cell_type": "code",
   "execution_count": 4,
   "metadata": {},
   "outputs": [
    {
     "name": "stdout",
     "output_type": "stream",
     "text": [
      "Marshal -> Boone 47.999270588407306\n",
      "Boone -> Polk 30.46950404315813\n",
      "Polk -> Marshal 38.2620518877553\n"
     ]
    }
   ],
   "source": [
    "#create distance dictionary\n",
    "from geopy.distance import geodesic\n",
    "\n",
    "Marshal = ( G.nodes[0]['C_Y'], G.nodes[0]['C_X'] )\n",
    "Boone = ( G.nodes[52]['C_Y'], G.nodes[52]['C_X'] )\n",
    "Polk = ( G.nodes[73]['C_Y'], G.nodes[73]['C_X'] )\n",
    "\n",
    "print(\"Marshal -> Boone\",geodesic(Marshal, Boone).miles)\n",
    "print(\"Boone -> Polk\", geodesic(Boone, Polk).miles)\n",
    "print(\"Polk -> Marshal\",geodesic(Polk, Marshal).miles)"
   ]
  },
  {
   "cell_type": "code",
   "execution_count": 5,
   "metadata": {},
   "outputs": [],
   "source": [
    "#Check the dictionary \n",
    "dist = dict()\n",
    "for i in G.nodes:\n",
    "    for j in G.nodes:\n",
    "        loc_i = ( G.nodes[i]['C_Y'], G.nodes[i]['C_X'] )\n",
    "        loc_j = ( G.nodes[j]['C_Y'], G.nodes[j]['C_X'] )\n",
    "        dist[i,j] = geodesic(loc_i,loc_j).miles"
   ]
  },
  {
   "cell_type": "code",
   "execution_count": 6,
   "metadata": {},
   "outputs": [
    {
     "name": "stdout",
     "output_type": "stream",
     "text": [
      "Marshal -> Boone: 47.999270588407306\n"
     ]
    }
   ],
   "source": [
    "print(\"Marshal -> Boone:\",dist[0,52])"
   ]
  },
  {
   "cell_type": "code",
   "execution_count": 7,
   "metadata": {},
   "outputs": [
    {
     "name": "stdout",
     "output_type": "stream",
     "text": [
      "Using L = 757781 and U = 765396 and K = 4\n"
     ]
    }
   ],
   "source": [
    "#Find the upper and lower bound \n",
    "deviation = 0.01\n",
    "\n",
    "import math \n",
    "K = 4\n",
    "total_population = sum(G.nodes[node]['TOTPOP'] for node in G.nodes)\n",
    "\n",
    "L = math.ceil((1-deviation/2)*total_population/K)\n",
    "U = math.floor((1+deviation/2)*total_population/K)\n",
    "print(\"Using L =\",L,\"and U =\",U,\"and K =\",K)"
   ]
  },
  {
   "cell_type": "code",
   "execution_count": 8,
   "metadata": {},
   "outputs": [
    {
     "name": "stdout",
     "output_type": "stream",
     "text": [
      "Academic license - for non-commercial use only - expires 2021-06-25\n",
      "Using license file C:\\Users\\jared\\gurobi.lic\n"
     ]
    }
   ],
   "source": [
    "#Start of the model\n",
    "import gurobipy as gp\n",
    "from gurobipy import GRB\n",
    "\n",
    "m = gp.Model()\n",
    "#X[i,j] variable which equals one when county i \n",
    "#       Is assigned to (the district centered at) county j\n",
    "X = m.addVars(G.nodes, G.nodes, vtype=GRB.BINARY)"
   ]
  },
  {
   "cell_type": "code",
   "execution_count": 9,
   "metadata": {},
   "outputs": [],
   "source": [
    "#Objective equation\n",
    "m.setObjective( gp.quicksum( dist[i,j]*dist[i,j]*G.nodes[i]['TOTPOP']*X[i,j] for i in G.nodes for j in G.nodes), GRB.MINIMIZE )"
   ]
  },
  {
   "cell_type": "code",
   "execution_count": 10,
   "metadata": {},
   "outputs": [],
   "source": [
    "#Constraint equations\n",
    "#each county i is assigned to one district\n",
    "m.addConstrs( gp.quicksum(X[i,j] for j in G.nodes) == 1 for i in G.nodes) \n",
    "#there should be K \n",
    "m.addConstr( gp.quicksum( X[j,j] for j in G.nodes ) == K )\n",
    "#the population in each district has to be bwtween the upper and lower limits\n",
    "m.addConstrs( gp.quicksum( G.nodes[i]['TOTPOP'] * X[i,j] for i in G.nodes) >= L * X[j,j] for j in G.nodes )\n",
    "m.addConstrs( gp.quicksum( G.nodes[i]['TOTPOP'] * X[i,j] for i in G.nodes) <= U * X[j,j] for j in G.nodes )\n",
    "#if i is assigned to j then j is center\n",
    "m.addConstrs( X[i,j] <= X[j,j] for i in G.nodes for j in G.nodes )\n",
    "\n",
    "m.update()"
   ]
  },
  {
   "cell_type": "code",
   "execution_count": 11,
   "metadata": {},
   "outputs": [],
   "source": [
    "#Add the contiguity by adding mpre constraints\n",
    "import networkx as nx \n",
    "DG = nx.DiGraph(G)\n",
    "#Define new variables \n",
    "f = m.addVars( DG.nodes, DG.edges, vtype=GRB.CONTINUOUS)\n",
    "M = DG.number_of_nodes()-1\n",
    "#node j cannot recieve flow of its own type\n",
    "m.addConstrs( gp.quicksum( f[j,u,j] for u in DG.neighbors(j) ) == 0 for j in DG.nodes )\n",
    "#node i can recieve flow of type j only if i is assigned to j\n",
    "m.addConstrs( gp.quicksum( f[j,u,i] for u in DG.neighbors(i)) <= M * X[i,j] for i in DG.nodes for j in DG.nodes if i != j )\n",
    "#i is assigned to j, then i should consume one unit of j flow \n",
    "#     Otherwise,, i should consume no units \n",
    "m.addConstrs( gp.quicksum( f[j,u,i] - f[j,i,u] for u in DG.neighbors(i)) == X[i,j] for i in DG.nodes for j in DG.nodes if i != j )\n",
    "\n",
    "m.update()"
   ]
  },
  {
   "cell_type": "code",
   "execution_count": 12,
   "metadata": {},
   "outputs": [
    {
     "name": "stdout",
     "output_type": "stream",
     "text": [
      "Changed value of parameter MIPGap to 0.0\n",
      "   Prev: 0.0001  Min: 0.0  Max: inf  Default: 0.0001\n",
      "Gurobi Optimizer version 9.1.1 build v9.1.1rc0 (win64)\n",
      "Thread count: 4 physical cores, 8 logical processors, using up to 8 threads\n",
      "Optimize a model with 29602 rows, 53757 columns and 199290 nonzeros\n",
      "Model fingerprint: 0xc9f1a4ba\n",
      "Variable types: 43956 continuous, 9801 integer (9801 binary)\n",
      "Coefficient statistics:\n",
      "  Matrix range     [1e+00, 8e+05]\n",
      "  Objective range  [2e+06, 2e+10]\n",
      "  Bounds range     [1e+00, 1e+00]\n",
      "  RHS range        [1e+00, 4e+00]\n",
      "Warning: Model contains large objective coefficients\n",
      "         Consider reformulating model or setting NumericFocus parameter\n",
      "         to avoid numerical issues.\n",
      "Presolve removed 203 rows and 444 columns\n",
      "Presolve time: 1.43s\n",
      "Presolved: 29399 rows, 53313 columns, 198395 nonzeros\n",
      "Variable types: 43512 continuous, 9801 integer (9801 binary)\n",
      "\n",
      "Deterministic concurrent LP optimizer: primal and dual simplex\n",
      "Showing first log only...\n",
      "\n",
      "Concurrent spin time: 0.01s\n",
      "\n",
      "Solved with dual simplex\n",
      "\n",
      "Root relaxation: objective 6.731486e+09, 3955 iterations, 2.43 seconds\n",
      "\n",
      "    Nodes    |    Current Node    |     Objective Bounds      |     Work\n",
      " Expl Unexpl |  Obj  Depth IntInf | Incumbent    BestBd   Gap | It/Node Time\n",
      "\n",
      "     0     0 6.7315e+09    0  149          - 6.7315e+09      -     -    5s\n",
      "H    0     0                    7.016183e+09 6.7315e+09  4.06%     -    7s\n",
      "H    0     0                    7.008458e+09 6.7315e+09  3.95%     -    7s\n",
      "H    0     0                    6.971018e+09 6.7315e+09  3.44%     -    9s\n",
      "     0     0 6.7508e+09    0  146 6.9710e+09 6.7508e+09  3.16%     -   10s\n",
      "     0     0 6.7508e+09    0  139 6.9710e+09 6.7508e+09  3.16%     -   15s\n",
      "H    0     0                    6.932591e+09 6.7508e+09  2.62%     -   16s\n",
      "     0     0 6.7508e+09    0  138 6.9326e+09 6.7508e+09  2.62%     -   16s\n",
      "     0     0 6.7508e+09    0  133 6.9326e+09 6.7508e+09  2.62%     -   18s\n",
      "H    0     0                    6.907202e+09 6.7508e+09  2.26%     -   18s\n",
      "H    0     0                    6.893489e+09 6.7527e+09  2.04%     -   19s\n",
      "     0     0 6.7527e+09    0  137 6.8935e+09 6.7527e+09  2.04%     -   19s\n",
      "     0     0 6.7527e+09    0  119 6.8935e+09 6.7527e+09  2.04%     -   20s\n",
      "     0     0 6.7693e+09    0  122 6.8935e+09 6.7693e+09  1.80%     -   21s\n",
      "H    0     0                    6.852819e+09 6.7693e+09  1.22%     -   21s\n",
      "     0     0 6.7745e+09    0  125 6.8528e+09 6.7745e+09  1.14%     -   21s\n",
      "     0     0 6.7792e+09    0  208 6.8528e+09 6.7792e+09  1.07%     -   21s\n",
      "     0     0 6.7792e+09    0   71 6.8528e+09 6.7792e+09  1.07%     -   22s\n",
      "     0     0 6.7792e+09    0   50 6.8528e+09 6.7792e+09  1.07%     -   22s\n",
      "     0     0 6.7871e+09    0   52 6.8528e+09 6.7871e+09  0.96%     -   22s\n",
      "     0     0 6.7892e+09    0   53 6.8528e+09 6.7892e+09  0.93%     -   22s\n",
      "     0     0 6.7894e+09    0   55 6.8528e+09 6.7894e+09  0.93%     -   22s\n",
      "     0     0 6.8021e+09    0  105 6.8528e+09 6.8021e+09  0.74%     -   22s\n",
      "     0     0 6.8021e+09    0   56 6.8528e+09 6.8021e+09  0.74%     -   22s\n",
      "     0     0 6.8021e+09    0   66 6.8528e+09 6.8021e+09  0.74%     -   22s\n",
      "     0     0 6.8023e+09    0   57 6.8528e+09 6.8023e+09  0.74%     -   22s\n",
      "     0     0 6.8046e+09    0   86 6.8528e+09 6.8046e+09  0.70%     -   22s\n",
      "     0     0 6.8049e+09    0   82 6.8528e+09 6.8049e+09  0.70%     -   22s\n",
      "     0     0 6.8050e+09    0   86 6.8528e+09 6.8050e+09  0.70%     -   22s\n",
      "     0     0 6.8092e+09    0   89 6.8528e+09 6.8092e+09  0.64%     -   22s\n",
      "     0     0 6.8123e+09    0   90 6.8528e+09 6.8123e+09  0.59%     -   22s\n",
      "     0     0 6.8129e+09    0   89 6.8528e+09 6.8129e+09  0.58%     -   22s\n",
      "     0     0 6.8129e+09    0   89 6.8528e+09 6.8129e+09  0.58%     -   22s\n",
      "     0     0 6.8189e+09    0   92 6.8528e+09 6.8189e+09  0.49%     -   22s\n",
      "     0     0 6.8190e+09    0   93 6.8528e+09 6.8190e+09  0.49%     -   22s\n",
      "     0     0 6.8207e+09    0   94 6.8528e+09 6.8207e+09  0.47%     -   22s\n",
      "H    0     0                    6.851641e+09 6.8207e+09  0.45%     -   22s\n",
      "     0     0 6.8280e+09    0   94 6.8516e+09 6.8280e+09  0.34%     -   22s\n",
      "     0     0 6.8283e+09    0   94 6.8516e+09 6.8283e+09  0.34%     -   23s\n",
      "     0     0 6.8509e+09    0   94 6.8516e+09 6.8509e+09  0.01%     -   23s\n",
      "     0     0 6.8516e+09    0   94 6.8516e+09 6.8516e+09  0.00%     -   23s\n",
      "\n",
      "Cutting planes:\n",
      "  Cover: 15\n",
      "  Implied bound: 1\n",
      "  MIR: 5\n",
      "  StrongCG: 4\n",
      "  Flow cover: 41\n",
      "  GUB cover: 2\n",
      "  Inf proof: 1\n",
      "  RLT: 6\n",
      "\n",
      "Explored 1 nodes (9477 simplex iterations) in 23.11 seconds\n",
      "Thread count was 8 (of 8 available processors)\n",
      "\n",
      "Solution count 8: 6.85164e+09 6.85282e+09 6.89349e+09 ... 7.01618e+09\n",
      "\n",
      "Optimal solution found (tolerance 0.00e+00)\n",
      "Best objective 6.851641139809e+09, best bound 6.851641139809e+09, gap 0.0000%\n"
     ]
    }
   ],
   "source": [
    "#optimize\n",
    "m.Params.MIPGap = 0.0\n",
    "m.optimize()"
   ]
  },
  {
   "cell_type": "code",
   "execution_count": 13,
   "metadata": {},
   "outputs": [
    {
     "name": "stdout",
     "output_type": "stream",
     "text": [
      "The moment of inertia objective is 6851641139.809169\n",
      "District 0 has population 763144 and contains counties ['Jackson', 'Muscatine', 'Clinton', 'Iowa', 'Washington', 'Johnson', 'Monroe', 'Dubuque', 'Van Buren', 'Jefferson', 'Davis', 'Scott', 'Cedar', 'Des Moines', 'Henry', 'Jones', 'Louisa', 'Wapello', 'Lee']\n",
      "District 1 has population 758120 and contains counties ['Clay', 'Shelby', 'Wright', 'Buena Vista', 'Woodbury', 'Kossuth', 'Sac', 'Humboldt', 'Cherokee', 'Lyon', \"O'Brien\", 'Guthrie', 'Dickinson', 'Plymouth', 'Dallas', 'Palo Alto', 'Fremont', 'Montgomery', 'Webster', 'Calhoun', 'Boone', 'Page', 'Ida', 'Crawford', 'Carroll', 'Audubon', 'Sioux', 'Adair', 'Mills', 'Monona', 'Harrison', 'Emmet', 'Cass', 'Osceola', 'Hancock', 'Pocahontas', 'Greene', 'Pottawattamie']\n",
      "District 2 has population 760858 and contains counties ['Marshall', 'Benton', 'Clayton', 'Worth', 'Winnebago', 'Keokuk', 'Franklin', 'Floyd', 'Black Hawk', 'Mitchell', 'Butler', 'Linn', 'Delaware', 'Hardin', 'Buchanan', 'Chickasaw', 'Allamakee', 'Cerro Gordo', 'Fayette', 'Bremer', 'Tama', 'Poweshiek', 'Winneshiek', 'Grundy', 'Howard']\n",
      "District 3 has population 764233 and contains counties ['Hamilton', 'Taylor', 'Marion', 'Appanoose', 'Clarke', 'Ringgold', 'Warren', 'Decatur', 'Mahaska', 'Jasper', 'Adams', 'Union', 'Wayne', 'Lucas', 'Polk', 'Madison', 'Story']\n"
     ]
    }
   ],
   "source": [
    "#Print what counties are in each district\n",
    "print(\"The moment of inertia objective is\",m.objval)\n",
    "\n",
    "centers = [j for j in G.nodes if X[j,j].x > 0.5 ]\n",
    "districts = [ [i for i in G.nodes if X[i,j].x > 0.5] for j in centers]\n",
    "district_counties = [ [ G.nodes[i][\"NAME10\"] for i in districts[j] ] for j in range(K)]\n",
    "district_populations = [ sum(G.nodes[i][\"TOTPOP\"] for i in districts[j]) for j in range(K) ]\n",
    "for j in range(K):\n",
    "    print(\"District\",j,\"has population\",district_populations[j],\"and contains counties\",district_counties[j])"
   ]
  },
  {
   "cell_type": "code",
   "execution_count": 14,
   "metadata": {},
   "outputs": [],
   "source": [
    "#Start creation of the map\n",
    "import geopandas as gpd"
   ]
  },
  {
   "cell_type": "code",
   "execution_count": 15,
   "metadata": {},
   "outputs": [],
   "source": [
    "#Find files in computer to graph iowa\n",
    "filepath_ = 'C:\\\\district-data\\\\'\n",
    "filename_ = 'IA_counties.shp'\n",
    "\n",
    "df = gpd.read_file( filepath_ + filename_ )"
   ]
  },
  {
   "cell_type": "code",
   "execution_count": 16,
   "metadata": {},
   "outputs": [
    {
     "data": {
      "image/png": "[encoded data removed]",
      "text/plain": [
       "<Figure size 432x288 with 1 Axes>"
      ]
     },
     "metadata": {
      "needs_background": "light"
     },
     "output_type": "display_data"
    }
   ],
   "source": [
    "#Finish maps\n",
    "assignment = [ -1 for u in G.nodes ]\n",
    "\n",
    "for j in range(len(districts)):\n",
    "    \n",
    "    for i in districts[j]:\n",
    "    \n",
    "        geoID = G.nodes[i][\"GEOID10\"]\n",
    "    \n",
    "        for u in G.nodes:\n",
    "            if geoID == df[\"GEOID10\"][u]:\n",
    "                assignment[u] = j\n",
    "        \n",
    "df['assignment'] = assignment\n",
    "my_fig = df.plot(column='assignment').get_figure()"
   ]
  }
 ],
 "metadata": {
  "kernelspec": {
   "display_name": "Python 3",
   "language": "python",
   "name": "python3"
  },
  "language_info": {
   "codemirror_mode": {
    "name": "ipython",
    "version": 3
   },
   "file_extension": ".py",
   "mimetype": "text/x-python",
   "name": "python",
   "nbconvert_exporter": "python",
   "pygments_lexer": "ipython3",
   "version": "3.8.5"
  }
 },
 "nbformat": 4,
 "nbformat_minor": 4
}
